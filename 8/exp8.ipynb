{
 "cells": [
  {
   "cell_type": "markdown",
   "id": "e2dfdef4",
   "metadata": {},
   "source": [
    "# Exp8: Implement the Image processing basics: Converting Image to RGB to BGR to Grayscale, create a White/Black Color Image, how to draw shapes on image.\n"
   ]
  },
  {
   "cell_type": "code",
   "execution_count": 26,
   "id": "196a0162",
   "metadata": {},
   "outputs": [],
   "source": [
    "import cv2\n",
    "import numpy as np"
   ]
  },
  {
   "cell_type": "code",
   "execution_count": null,
   "id": "3a21d7c7",
   "metadata": {},
   "outputs": [],
   "source": []
  },
  {
   "cell_type": "code",
   "execution_count": 27,
   "id": "6c585762",
   "metadata": {},
   "outputs": [],
   "source": [
    "def convert_to_grayscale(image_path):\n",
    "    # Load the image\n",
    "    image= cv2.imread(image_path)\n",
    "    # Convert the image to grayscale\n",
    "    grayscale_image= cv2.cvtColor(image,cv2.COLOR_BGR2GRAY)\n",
    "    cv2.imshow(\"Original Image\", image)\n",
    "    cv2.imshow(\"Grayscale Image\", grayscale_image)\n",
    "    cv2.waitKey(0)\n",
    "    cv2.destroyAllWindows()"
   ]
  },
  {
   "cell_type": "code",
   "execution_count": 28,
   "id": "babb3ebb",
   "metadata": {},
   "outputs": [],
   "source": [
    "def convert_to_bgr(image_path,output_path):\n",
    "    image=cv2.imread(image_path)\n",
    "    #Load the image\n",
    "    bgr_image=cv2.cvtColor(image, cv2.COLOR_RGB2BGR)\n",
    "    #Convert the image to BGR color space\n",
    "    cv2.imshow(\"Original Image\", image)\n",
    "    #Display the original anf BGR images\n",
    "    cv2.imshow(\"BGR Image\", bgr_image)\n",
    "    cv2.waitKey(0)\n",
    "    cv2.destroyAllWindows()\n",
    "    #Save the BGR image\n",
    "    cv2.imwrite(output_path,bgr_image)\n",
    "    print(\"BGR image saved as\", output_path)\n",
    "    "
   ]
  },
  {
   "cell_type": "markdown",
   "id": "09c63a9f",
   "metadata": {},
   "source": [
    "# In this code, the convert_bgr_to_rgb function takes an image in BGR color space(image_bgr) and converts it to RGB color space using cv2.cvtColor with the cv2.COLOR_BGR2RGB flag. It then displays both the original BGR image and the converted RGB image."
   ]
  },
  {
   "cell_type": "code",
   "execution_count": 29,
   "id": "1234c1b7",
   "metadata": {},
   "outputs": [],
   "source": [
    "def convert_bgr_to_rgb(output_path):\n",
    "    image_bgr=cv2.imread(output_path)\n",
    "    image_rgb=cv2.cvtColor(image_bgr, cv2.COLOR_BGR2RGB)\n",
    "    cv2.imshow(\"BGR Image\", image_bgr)\n",
    "    cv2.imshow(\"RGB Image\", image_rgb)\n",
    "    cv2.waitKey(0)\n",
    "    cv2.destroyAllWindows()\n",
    "    "
   ]
  },
  {
   "cell_type": "code",
   "execution_count": 30,
   "id": "2de21fd1",
   "metadata": {},
   "outputs": [],
   "source": [
    "# main program\n",
    "image_path=\"flower.jpg\"\n",
    "output_path=\"flower1.jpg\""
   ]
  },
  {
   "cell_type": "code",
   "execution_count": 31,
   "id": "26c0b64a",
   "metadata": {},
   "outputs": [],
   "source": [
    "convert_to_grayscale(image_path)"
   ]
  },
  {
   "cell_type": "code",
   "execution_count": 32,
   "id": "f0261dc9",
   "metadata": {},
   "outputs": [
    {
     "name": "stdout",
     "output_type": "stream",
     "text": [
      "BGR image saved as flower1.jpg\n"
     ]
    }
   ],
   "source": [
    "convert_to_bgr(image_path,output_path)"
   ]
  },
  {
   "cell_type": "code",
   "execution_count": 33,
   "id": "7d8d8ed1",
   "metadata": {},
   "outputs": [
    {
     "name": "stdout",
     "output_type": "stream",
     "text": [
      "Requirement already satisfied: opencv-python in c:\\users\\student\\anaconda3\\lib\\site-packages (4.9.0.80)\n",
      "Requirement already satisfied: numpy>=1.19.3 in c:\\users\\student\\anaconda3\\lib\\site-packages (from opencv-python) (1.21.5)\n"
     ]
    }
   ],
   "source": [
    "convert_bgr_to_rgb(output_path)"
   ]
  },
  {
   "cell_type": "code",
   "execution_count": 34,
   "id": "dae9162d",
   "metadata": {},
   "outputs": [],
   "source": [
    "def create_white_image(width,height):\n",
    "    white_image=np.ones((height,width,3),dtype=np.uint8)*255\n",
    "    cv2.imshow(\"White Image\", white_image)\n",
    "    cv2.waitKey(0)\n",
    "    cv2.destroyAllwindows()"
   ]
  },
  {
   "cell_type": "code",
   "execution_count": 41,
   "id": "a8b6d0ac",
   "metadata": {},
   "outputs": [],
   "source": [
    "def create_black_image(width,height):\n",
    "    black_image=np.zeros((height,width,3),dtype=np.uint8)\n",
    "    cv2.imshow(\"Black Image\", black_image)\n",
    "    cv2.waitKey(0)\n",
    "    cv2.destroyAllWindows()"
   ]
  },
  {
   "cell_type": "code",
   "execution_count": 42,
   "id": "c8483db5",
   "metadata": {},
   "outputs": [],
   "source": [
    "#np.ones((height,width,3), dtype=np.uint8) creates a NumPy arrAY OF SHAPE(height,width,3)with all elements initialized to 1. the\n",
    "#(height,width,3) shape represents an image with height number of rows, width number of columns, adn3 channels(Red,green,Bl)\n",
    "\n"
   ]
  },
  {
   "cell_type": "code",
   "execution_count": 43,
   "id": "13bae366",
   "metadata": {},
   "outputs": [],
   "source": [
    "def draw_shapes_on_image(image_path):\n",
    "    #load the image\n",
    "    image = cv2.imread(image_path)\n",
    "    #draw a rectangle on the image\n",
    "    cv2.rectangle(image, (50, 50), (200, 200), (0, 255, 0), 2)\n",
    "    \n",
    "    #draw a circle on the image\n",
    "    cv2.line(image, (400, 50), (400, 250), (255, 0, 0), 2)\n",
    "    \n",
    "    #display the image with shapes\n",
    "    cv2.imshow(\"Image with shapes\", image)\n",
    "    cv2.waitKey(0)\n",
    "    cv2.destroyAllWindows()"
   ]
  },
  {
   "cell_type": "code",
   "execution_count": 44,
   "id": "18e8b089",
   "metadata": {},
   "outputs": [],
   "source": [
    "#main program\n",
    "width, height = 800, 600"
   ]
  },
  {
   "cell_type": "code",
   "execution_count": null,
   "id": "82172041",
   "metadata": {},
   "outputs": [],
   "source": [
    "#reate a white image\n",
    "create_white_image(width, height)"
   ]
  },
  {
   "cell_type": "code",
   "execution_count": null,
   "id": "e1a9d1fd",
   "metadata": {},
   "outputs": [],
   "source": [
    "#create a black image\n",
    "create_black_image(width, height)"
   ]
  },
  {
   "cell_type": "code",
   "execution_count": null,
   "id": "e4f05251",
   "metadata": {},
   "outputs": [],
   "source": [
    "image_path =\"flower.jpg\"\n",
    "draw_shapes_on_image(image_path)"
   ]
  },
  {
   "cell_type": "code",
   "execution_count": null,
   "id": "27419e1d",
   "metadata": {},
   "outputs": [],
   "source": []
  }
 ],
 "metadata": {
  "kernelspec": {
   "display_name": "Python 3 (ipykernel)",
   "language": "python",
   "name": "python3"
  },
  "language_info": {
   "codemirror_mode": {
    "name": "ipython",
    "version": 3
   },
   "file_extension": ".py",
   "mimetype": "text/x-python",
   "name": "python",
   "nbconvert_exporter": "python",
   "pygments_lexer": "ipython3",
   "version": "3.9.12"
  }
 },
 "nbformat": 4,
 "nbformat_minor": 5
}
